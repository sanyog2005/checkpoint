{
 "cells": [
  {
   "cell_type": "code",
   "execution_count": 24,
   "id": "1f5c8e19-9b1f-4049-8f7f-86f61e644d80",
   "metadata": {},
   "outputs": [],
   "source": [
    "class phone:\n",
    "    def call(self,sellf):\n",
    "        self.sellf=sellf\n",
    "    def col(self):\n",
    "        return self.sellf\n",
    "        \n",
    "    \n",
    "p1=phone()\n"
   ]
  },
  {
   "cell_type": "code",
   "execution_count": 3,
   "id": "f26e88f2-079c-4179-8b78-465809c3b89b",
   "metadata": {},
   "outputs": [
    {
     "name": "stdout",
     "output_type": "stream",
     "text": [
      "call\n"
     ]
    }
   ],
   "source": [
    "p1.call()"
   ]
  },
  {
   "cell_type": "code",
   "execution_count": 20,
   "id": "5be215c5-ea08-4391-be33-c9618de2d652",
   "metadata": {},
   "outputs": [],
   "source": [
    "p1.call(\"hello\")"
   ]
  },
  {
   "cell_type": "code",
   "execution_count": 26,
   "id": "5b92b331-1f42-464b-be56-1c1102e10451",
   "metadata": {},
   "outputs": [
    {
     "ename": "AttributeError",
     "evalue": "'phone' object has no attribute 'sellf'",
     "output_type": "error",
     "traceback": [
      "\u001b[1;31m---------------------------------------------------------------------------\u001b[0m",
      "\u001b[1;31mAttributeError\u001b[0m                            Traceback (most recent call last)",
      "Cell \u001b[1;32mIn[26], line 1\u001b[0m\n\u001b[1;32m----> 1\u001b[0m p1\u001b[38;5;241m.\u001b[39mcol()\n",
      "Cell \u001b[1;32mIn[24], line 5\u001b[0m, in \u001b[0;36mphone.col\u001b[1;34m(self)\u001b[0m\n\u001b[0;32m      4\u001b[0m \u001b[38;5;28;01mdef\u001b[39;00m \u001b[38;5;21mcol\u001b[39m(\u001b[38;5;28mself\u001b[39m):\n\u001b[1;32m----> 5\u001b[0m     \u001b[38;5;28;01mreturn\u001b[39;00m \u001b[38;5;28mself\u001b[39m\u001b[38;5;241m.\u001b[39msellf\n",
      "\u001b[1;31mAttributeError\u001b[0m: 'phone' object has no attribute 'sellf'"
     ]
    }
   ],
   "source": [
    "p1.col()"
   ]
  },
  {
   "cell_type": "code",
   "execution_count": null,
   "id": "a456934b-1878-4eb2-8109-ad8b48877869",
   "metadata": {},
   "outputs": [],
   "source": []
  }
 ],
 "metadata": {
  "kernelspec": {
   "display_name": "Python 3 (ipykernel)",
   "language": "python",
   "name": "python3"
  },
  "language_info": {
   "codemirror_mode": {
    "name": "ipython",
    "version": 3
   },
   "file_extension": ".py",
   "mimetype": "text/x-python",
   "name": "python",
   "nbconvert_exporter": "python",
   "pygments_lexer": "ipython3",
   "version": "3.12.4"
  }
 },
 "nbformat": 4,
 "nbformat_minor": 5
}
